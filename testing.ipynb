{
 "cells": [
  {
   "cell_type": "code",
   "execution_count": 56,
   "metadata": {},
   "outputs": [],
   "source": [
    "import os\n",
    "import glob\n",
    "import cv2\n",
    "import shutil\n",
    "import numpy as np\n",
    "import pandas as pd\n",
    "import tensorflow as tf\n",
    "import matplotlib.pyplot as plt\n",
    "import matplotlib.image as mpimg\n",
    "from PIL import Image\n",
    "from skimage.io import imread\n",
    "from tensorflow import keras\n",
    "from sklearn.model_selection import train_test_split"
   ]
  },
  {
   "cell_type": "markdown",
   "metadata": {},
   "source": [
    "# Creating Dataframe"
   ]
  },
  {
   "cell_type": "markdown",
   "metadata": {},
   "source": [
    "## Variables"
   ]
  },
  {
   "cell_type": "code",
   "execution_count": 42,
   "metadata": {},
   "outputs": [],
   "source": [
    "# Directories\n",
    "# dataDir = './data'\n",
    "dataDir = '.\\data'\n",
    "# Dataframe\n",
    "df = pd.DataFrame(data={\n",
    "    \"bird\":[],\"cat\":[],\"dog\":[],\"path\":[]\n",
    "    })\n",
    "df['bird'] = df['bird'].astype(np.int8)\n",
    "df['cat']  = df['cat'].astype(np.int8)\n",
    "df['dog']  = df['dog'].astype(np.int8)\n",
    "df['path'] = df['path'].astype(np.str0)\n",
    "\n",
    "animals = ['cat','dog','bird']"
   ]
  },
  {
   "cell_type": "markdown",
   "metadata": {},
   "source": [
    "## Filling Dataframe"
   ]
  },
  {
   "cell_type": "code",
   "execution_count": 43,
   "metadata": {},
   "outputs": [],
   "source": [
    "for animal in animals:\n",
    "    for dirname,_,filenames in os.walk(os.path.join(dataDir,animal)):\n",
    "        for file in filenames:\n",
    "            try:\n",
    "                path = os.path.join(dataDir,animal,animal,file)\n",
    "                df = pd.concat(\n",
    "                    [ df,\n",
    "                        pd.DataFrame({\n",
    "                            'dog':  1 if animal == 'dog' else 0,\n",
    "                            'cat':  1 if animal == 'cat' else 0,\n",
    "                            'bird': 1 if animal == 'bird' else 0,\n",
    "                            'path': [path]\n",
    "                        })\n",
    "                    ],\n",
    "                    ignore_index=True\n",
    "                )\n",
    "            except:\n",
    "                print(\"Issue at filename: \", file)"
   ]
  },
  {
   "cell_type": "markdown",
   "metadata": {},
   "source": [
    "# Model Creation"
   ]
  },
  {
   "cell_type": "markdown",
   "metadata": {},
   "source": [
    "### Train/Test Split"
   ]
  },
  {
   "cell_type": "code",
   "execution_count": 50,
   "metadata": {},
   "outputs": [],
   "source": [
    "dataTrain, dataTest = train_test_split(\n",
    "    df,\n",
    "    train_size=0.05\n",
    ")"
   ]
  },
  {
   "cell_type": "markdown",
   "metadata": {},
   "source": [
    "### Variables"
   ]
  },
  {
   "cell_type": "code",
   "execution_count": 48,
   "metadata": {},
   "outputs": [],
   "source": [
    "dirTrain = \"trainData\"\n",
    "dirTest  = \"testData\"\n",
    "dirValidation = \"validationData\"\n",
    "root = \"./output\""
   ]
  },
  {
   "cell_type": "markdown",
   "metadata": {},
   "source": [
    "### Creating directories"
   ]
  },
  {
   "cell_type": "code",
   "execution_count": 59,
   "metadata": {},
   "outputs": [],
   "source": [
    "def createDirectories(dir):\n",
    "    os.makedirs(os.path.join(root,'dataset',dir))\n",
    "    for animal in animals:   \n",
    "        os.makedirs(os.path.join(root,'dataset',dir,animal))"
   ]
  },
  {
   "cell_type": "code",
   "execution_count": 60,
   "metadata": {},
   "outputs": [],
   "source": [
    "# Create directories if they haven't already been created\n",
    "if os.path.isdir(os.path.join(root,'dataset')) == False:\n",
    "    os.makedirs(os.path.join(root,'dataset'))\n",
    "\n",
    "# Training directories\n",
    "if os.path.isdir(os.path.join(root,'dataset',dirTrain)) == False:\n",
    "    createDirectories(dirTrain)\n",
    "    \n",
    "# Testing directories\n",
    "if os.path.isdir(os.path.join(root,'dataset',dirTest)) == False:\n",
    "    createDirectories(dirTest)"
   ]
  },
  {
   "cell_type": "markdown",
   "metadata": {},
   "source": [
    "### Adding images to train/test folder"
   ]
  },
  {
   "cell_type": "code",
   "execution_count": 53,
   "metadata": {},
   "outputs": [],
   "source": [
    "def folderPrep(row,dir):\n",
    "    head, tail = os.path.split(row.path)\n",
    "    if row.bird  == 1:\n",
    "        newPath  = os.path.join(root,'dataset',dir,'bird',tail)\n",
    "    elif row['cat'] == 1:\n",
    "        newPath    = os.path.join(root,'dataset',dir,'cat',tail)\n",
    "    elif row.dog == 1:\n",
    "        newPath  = os.path.join(root,'dataset',dir,'dog',tail)\n",
    "    shutil.copyfile(row.path,newPath)    \n",
    "    return newPath"
   ]
  },
  {
   "cell_type": "code",
   "execution_count": 58,
   "metadata": {},
   "outputs": [],
   "source": [
    "dataTrain['path'] = dataTrain.apply(folderPrep,axis=1,dir=dirTrain)"
   ]
  },
  {
   "cell_type": "code",
   "execution_count": 57,
   "metadata": {},
   "outputs": [],
   "source": [
    "dataTest['path'] = dataTest.apply(folderPrep,axis=1,dir=dirTest)"
   ]
  },
  {
   "cell_type": "markdown",
   "metadata": {},
   "source": [
    "### Training prep"
   ]
  },
  {
   "cell_type": "code",
   "execution_count": 62,
   "metadata": {},
   "outputs": [],
   "source": [
    "BATCH_SIZE = 256\n",
    "IMG_RES    = (227,227)"
   ]
  },
  {
   "cell_type": "code",
   "execution_count": 61,
   "metadata": {},
   "outputs": [],
   "source": [
    "physical_devices = tf.config.list_physical_devices('GPU') \n",
    "tf.config.experimental.set_memory_growth(physical_devices[0], True)"
   ]
  },
  {
   "cell_type": "code",
   "execution_count": 63,
   "metadata": {},
   "outputs": [
    {
     "name": "stdout",
     "output_type": "stream",
     "text": [
      "Found 667 images belonging to 3 classes.\n",
      "Found 12677 images belonging to 3 classes.\n"
     ]
    }
   ],
   "source": [
    "from keras.preprocessing.image import ImageDataGenerator\n",
    "\n",
    "image_gen =  ImageDataGenerator(\n",
    "        rescale= 1.0/255.0\n",
    "        )\n",
    "train = image_gen.flow_from_directory(\n",
    "        os.path.join(root,'dataset',dirTrain), \n",
    "        class_mode='categorical',\n",
    "        batch_size=BATCH_SIZE,\n",
    "        target_size=IMG_RES\n",
    "        )\n",
    "validation = image_gen.flow_from_directory(\n",
    "        os.path.join(root,'dataset',dirTest),\n",
    "        class_mode='categorical',\n",
    "        batch_size=BATCH_SIZE,\n",
    "        target_size=IMG_RES\n",
    "        )"
   ]
  },
  {
   "cell_type": "code",
   "execution_count": 65,
   "metadata": {},
   "outputs": [],
   "source": [
    "from keras.optimizers import Adam\n",
    "from keras.models import Sequential\n",
    "from keras.layers import Dense,Conv2D,MaxPool2D,Flatten,Dropout,BatchNormalization"
   ]
  },
  {
   "cell_type": "code",
   "execution_count": 77,
   "metadata": {},
   "outputs": [],
   "source": [
    "model = Sequential()\n",
    "model.add(\n",
    "    Conv2D(\n",
    "        filters=128,\n",
    "        kernel_size=11,\n",
    "        activation ='relu',\n",
    "        strides=4,\n",
    "        input_shape =(IMG_RES[0],IMG_RES[1],3)\n",
    "    )\n",
    ")\n",
    "model.add(MaxPool2D(3,2))\n",
    "model.add(Flatten())\n",
    "model.add(Dense(128,activation = 'relu'))\n",
    "model.add(Dense(3,activation = 'softmax'))  "
   ]
  },
  {
   "cell_type": "code",
   "execution_count": 78,
   "metadata": {},
   "outputs": [
    {
     "name": "stdout",
     "output_type": "stream",
     "text": [
      "Epoch 1/50\n",
      "3/3 [==============================] - 222s 109s/step - loss: 11.6951 - accuracy: 0.3373 - val_loss: 1.2204 - val_accuracy: 0.3097\n",
      "Epoch 2/50\n",
      "3/3 [==============================] - 216s 106s/step - loss: 1.1334 - accuracy: 0.3268 - val_loss: 1.0985 - val_accuracy: 0.3133\n",
      "Epoch 3/50\n",
      "3/3 [==============================] - 215s 105s/step - loss: 1.0956 - accuracy: 0.3883 - val_loss: 1.0855 - val_accuracy: 0.3883\n",
      "Epoch 4/50\n",
      "3/3 [==============================] - 212s 105s/step - loss: 1.0792 - accuracy: 0.4228 - val_loss: 1.0868 - val_accuracy: 0.3965\n",
      "Epoch 5/50\n",
      "3/3 [==============================] - 217s 107s/step - loss: 1.0845 - accuracy: 0.4633 - val_loss: 1.0864 - val_accuracy: 0.4112\n",
      "Epoch 6/50\n",
      "3/3 [==============================] - 218s 107s/step - loss: 1.0636 - accuracy: 0.4843 - val_loss: 1.0762 - val_accuracy: 0.4028\n",
      "Epoch 7/50\n",
      "3/3 [==============================] - 217s 107s/step - loss: 1.0540 - accuracy: 0.4153 - val_loss: 1.0797 - val_accuracy: 0.4006\n",
      "Epoch 8/50\n",
      "3/3 [==============================] - 219s 107s/step - loss: 1.0373 - accuracy: 0.4768 - val_loss: 1.0655 - val_accuracy: 0.4314\n",
      "Epoch 9/50\n",
      "3/3 [==============================] - 214s 106s/step - loss: 1.0219 - accuracy: 0.4723 - val_loss: 1.0637 - val_accuracy: 0.4240\n",
      "Epoch 10/50\n",
      "3/3 [==============================] - 215s 106s/step - loss: 1.0009 - accuracy: 0.4978 - val_loss: 1.0826 - val_accuracy: 0.4027\n",
      "Epoch 11/50\n",
      "3/3 [==============================] - 218s 107s/step - loss: 0.9892 - accuracy: 0.5007 - val_loss: 1.0673 - val_accuracy: 0.4299\n",
      "Epoch 12/50\n",
      "3/3 [==============================] - 215s 105s/step - loss: 0.9670 - accuracy: 0.5382 - val_loss: 1.0679 - val_accuracy: 0.4287\n",
      "Epoch 13/50\n",
      "3/3 [==============================] - 216s 107s/step - loss: 0.9408 - accuracy: 0.5697 - val_loss: 1.0912 - val_accuracy: 0.4203\n",
      "Epoch 14/50\n",
      "3/3 [==============================] - 215s 106s/step - loss: 0.9227 - accuracy: 0.5547 - val_loss: 1.0895 - val_accuracy: 0.4223\n",
      "Epoch 15/50\n",
      "3/3 [==============================] - 215s 105s/step - loss: 0.9032 - accuracy: 0.6357 - val_loss: 1.1261 - val_accuracy: 0.4158\n",
      "Epoch 16/50\n",
      "3/3 [==============================] - 214s 106s/step - loss: 0.8728 - accuracy: 0.6012 - val_loss: 1.1181 - val_accuracy: 0.4280\n",
      "Epoch 17/50\n",
      "3/3 [==============================] - 215s 105s/step - loss: 0.8607 - accuracy: 0.6252 - val_loss: 1.1294 - val_accuracy: 0.4070\n",
      "Epoch 18/50\n",
      "3/3 [==============================] - 217s 106s/step - loss: 0.8299 - accuracy: 0.6342 - val_loss: 1.1325 - val_accuracy: 0.4237\n",
      "Epoch 19/50\n",
      "3/3 [==============================] - 213s 105s/step - loss: 0.7991 - accuracy: 0.6672 - val_loss: 1.1436 - val_accuracy: 0.4122\n",
      "Epoch 20/50\n",
      "3/3 [==============================] - 216s 106s/step - loss: 0.7326 - accuracy: 0.7031 - val_loss: 1.2059 - val_accuracy: 0.4113\n",
      "Epoch 21/50\n",
      "3/3 [==============================] - 215s 105s/step - loss: 0.7224 - accuracy: 0.7001 - val_loss: 1.3005 - val_accuracy: 0.4011\n",
      "Epoch 22/50\n",
      "3/3 [==============================] - 214s 105s/step - loss: 0.6907 - accuracy: 0.7091 - val_loss: 1.1970 - val_accuracy: 0.4107\n",
      "Epoch 23/50\n",
      "3/3 [==============================] - 213s 104s/step - loss: 0.6619 - accuracy: 0.7376 - val_loss: 1.2175 - val_accuracy: 0.4152\n",
      "Epoch 24/50\n",
      "3/3 [==============================] - 214s 105s/step - loss: 0.6311 - accuracy: 0.7586 - val_loss: 1.2530 - val_accuracy: 0.4047\n",
      "Epoch 25/50\n",
      "3/3 [==============================] - 213s 105s/step - loss: 0.5779 - accuracy: 0.7916 - val_loss: 1.3578 - val_accuracy: 0.4141\n",
      "Epoch 26/50\n",
      "3/3 [==============================] - 214s 105s/step - loss: 0.5422 - accuracy: 0.7931 - val_loss: 1.4119 - val_accuracy: 0.4027\n",
      "Epoch 27/50\n",
      "3/3 [==============================] - 215s 106s/step - loss: 0.5270 - accuracy: 0.8141 - val_loss: 1.4221 - val_accuracy: 0.4140\n",
      "Epoch 28/50\n",
      "3/3 [==============================] - 213s 105s/step - loss: 0.5101 - accuracy: 0.8141 - val_loss: 1.3722 - val_accuracy: 0.4124\n",
      "Epoch 29/50\n",
      "3/3 [==============================] - 213s 105s/step - loss: 0.4657 - accuracy: 0.8501 - val_loss: 1.4489 - val_accuracy: 0.4126\n",
      "Epoch 30/50\n",
      "3/3 [==============================] - 213s 105s/step - loss: 0.4195 - accuracy: 0.8696 - val_loss: 1.5279 - val_accuracy: 0.4087\n",
      "Epoch 31/50\n",
      "3/3 [==============================] - 213s 105s/step - loss: 0.3804 - accuracy: 0.8891 - val_loss: 1.5817 - val_accuracy: 0.4077\n",
      "Epoch 32/50\n",
      "3/3 [==============================] - 215s 105s/step - loss: 0.3495 - accuracy: 0.8981 - val_loss: 1.6104 - val_accuracy: 0.4158\n",
      "Epoch 33/50\n",
      "3/3 [==============================] - 213s 104s/step - loss: 0.3151 - accuracy: 0.9055 - val_loss: 1.6115 - val_accuracy: 0.4059\n",
      "Epoch 34/50\n",
      "3/3 [==============================] - 214s 105s/step - loss: 0.2784 - accuracy: 0.9175 - val_loss: 1.7117 - val_accuracy: 0.4155\n",
      "Epoch 35/50\n",
      "3/3 [==============================] - 215s 105s/step - loss: 0.2410 - accuracy: 0.9340 - val_loss: 1.7791 - val_accuracy: 0.4094\n",
      "Epoch 36/50\n",
      "3/3 [==============================] - 215s 105s/step - loss: 0.2097 - accuracy: 0.9535 - val_loss: 1.8374 - val_accuracy: 0.4089\n",
      "Epoch 37/50\n",
      "3/3 [==============================] - 214s 105s/step - loss: 0.1774 - accuracy: 0.9550 - val_loss: 1.9164 - val_accuracy: 0.4104\n",
      "Epoch 38/50\n",
      "3/3 [==============================] - 212s 104s/step - loss: 0.1513 - accuracy: 0.9670 - val_loss: 1.9798 - val_accuracy: 0.4188\n",
      "Epoch 39/50\n",
      "3/3 [==============================] - 212s 104s/step - loss: 0.1254 - accuracy: 0.9760 - val_loss: 2.0415 - val_accuracy: 0.4194\n",
      "Epoch 40/50\n",
      "3/3 [==============================] - 212s 105s/step - loss: 0.1067 - accuracy: 0.9820 - val_loss: 2.1159 - val_accuracy: 0.4114\n",
      "Epoch 41/50\n",
      "3/3 [==============================] - 212s 104s/step - loss: 0.0908 - accuracy: 0.9880 - val_loss: 2.2315 - val_accuracy: 0.4228\n",
      "Epoch 42/50\n",
      "3/3 [==============================] - 213s 104s/step - loss: 0.0812 - accuracy: 0.9910 - val_loss: 2.2679 - val_accuracy: 0.4117\n",
      "Epoch 43/50\n",
      "3/3 [==============================] - 212s 105s/step - loss: 0.0706 - accuracy: 0.9910 - val_loss: 2.3537 - val_accuracy: 0.4193\n",
      "Epoch 44/50\n",
      "3/3 [==============================] - 214s 106s/step - loss: 0.0592 - accuracy: 0.9925 - val_loss: 2.4788 - val_accuracy: 0.4111\n",
      "Epoch 45/50\n",
      "3/3 [==============================] - 212s 104s/step - loss: 0.0564 - accuracy: 0.9925 - val_loss: 2.5376 - val_accuracy: 0.4130\n",
      "Epoch 46/50\n",
      "3/3 [==============================] - 214s 105s/step - loss: 0.0446 - accuracy: 0.9955 - val_loss: 2.5530 - val_accuracy: 0.4152\n",
      "Epoch 47/50\n",
      "3/3 [==============================] - 214s 105s/step - loss: 0.0395 - accuracy: 0.9955 - val_loss: 2.6042 - val_accuracy: 0.4170\n",
      "Epoch 48/50\n",
      "3/3 [==============================] - 214s 105s/step - loss: 0.0349 - accuracy: 0.9970 - val_loss: 2.7180 - val_accuracy: 0.4115\n",
      "Epoch 49/50\n",
      "3/3 [==============================] - 215s 105s/step - loss: 0.0291 - accuracy: 0.9970 - val_loss: 2.8404 - val_accuracy: 0.4194\n",
      "Epoch 50/50\n",
      "3/3 [==============================] - 214s 105s/step - loss: 0.0259 - accuracy: 0.9985 - val_loss: 2.8827 - val_accuracy: 0.4147\n"
     ]
    }
   ],
   "source": [
    "model.compile(\n",
    "    optimizer=Adam(),\n",
    "    loss='categorical_crossentropy',\n",
    "    metrics=['accuracy']\n",
    ")\n",
    "history = model.fit(train,epochs=50,validation_data=validation)"
   ]
  },
  {
   "cell_type": "code",
   "execution_count": 80,
   "metadata": {},
   "outputs": [],
   "source": [
    "model.save('classification1L.h5')"
   ]
  },
  {
   "cell_type": "markdown",
   "metadata": {},
   "source": [
    "# Testing"
   ]
  },
  {
   "cell_type": "code",
   "execution_count": 81,
   "metadata": {},
   "outputs": [],
   "source": [
    "from numpy.linalg import svd\n",
    "alexModel = keras.models.load_model('image_classification.h5')"
   ]
  },
  {
   "cell_type": "code",
   "execution_count": 84,
   "metadata": {},
   "outputs": [],
   "source": [
    "options = {\n",
    "    0: 'bird',\n",
    "    1: 'cat',\n",
    "    2: 'dog'\n",
    "}"
   ]
  },
  {
   "cell_type": "markdown",
   "metadata": {},
   "source": [
    "### Testing Dataframe"
   ]
  },
  {
   "cell_type": "code",
   "execution_count": 89,
   "metadata": {},
   "outputs": [],
   "source": [
    "testingDf = df.sample(n=100)\n",
    "paths = testingDf['path'].values"
   ]
  },
  {
   "cell_type": "markdown",
   "metadata": {},
   "source": [
    "## SVD Compression"
   ]
  },
  {
   "cell_type": "code",
   "execution_count": 121,
   "metadata": {},
   "outputs": [],
   "source": [
    "svdTotalCorrect = 0\n",
    "# svdConfidence = []\n",
    "results = []"
   ]
  },
  {
   "cell_type": "code",
   "execution_count": 83,
   "metadata": {},
   "outputs": [],
   "source": [
    "def truncateSVD(A, k):\n",
    "    U, S, Vt = svd(A)\n",
    "    Ak = np.dot(U[:,:k],np.dot(np.diag(S[:k]),Vt[:k,:]))\n",
    "    return Ak\n",
    "\n",
    "def compressImg(img,k):\n",
    "#   Send img to matrix\n",
    "    imgMatrix = np.array(list(img.getdata(band=0)))\n",
    "    imgMatrix.shape = (img.size[1],img.size[0])\n",
    "    imgMatrix = np.matrix(imgMatrix) \n",
    "#   Compress with SVD\n",
    "    compressedMatrix = truncateSVD(imgMatrix,k)\n",
    "#   Convert back to img\n",
    "    compressedImg = Image.fromarray(compressedMatrix)\n",
    "    return compressedImg"
   ]
  },
  {
   "cell_type": "code",
   "execution_count": 86,
   "metadata": {},
   "outputs": [],
   "source": [
    "def predictAnimal(img):\n",
    "    img = np.array(img).astype(np.float64)\n",
    "    img = img.reshape(-1,227,227,3)\n",
    "    img /= 255.\n",
    "    prediction = model.predict(img)\n",
    "    return prediction"
   ]
  },
  {
   "cell_type": "code",
   "execution_count": 87,
   "metadata": {},
   "outputs": [],
   "source": [
    "def getResult(arr):\n",
    "    x = np.argmax(arr)\n",
    "    string = options[x]\n",
    "    return string"
   ]
  },
  {
   "cell_type": "code",
   "execution_count": 88,
   "metadata": {},
   "outputs": [],
   "source": [
    "def getAnimal(str):\n",
    "    if 'cat' in str:\n",
    "        return 'cat'\n",
    "    elif 'dog' in str:\n",
    "        return 'dog'\n",
    "    elif 'bird' in str:\n",
    "        return 'bird'"
   ]
  },
  {
   "cell_type": "code",
   "execution_count": null,
   "metadata": {},
   "outputs": [],
   "source": [
    "for k in range(10,100,5):\n",
    "    svdTotalCorrect = 0\n",
    "    for path in paths:\n",
    "        # Compress Image\n",
    "        img  = Image.open(path).resize((227,227))\n",
    "        imgC = compressImg(img,k).convert('RGB')\n",
    "        # Make prediction\n",
    "        prediction = getResult(predictAnimal(imgC)[0])\n",
    "        answer = getAnimal(path)\n",
    "        # Evaluate prediction\n",
    "        if prediction == answer:\n",
    "            svdTotalCorrect += 1\n",
    "    # Add result to result list\n",
    "    results.append(svdTotalCorrect)\n",
    "    print('Total correct: ', svdTotalCorrect)\n"
   ]
  },
  {
   "cell_type": "code",
   "execution_count": 130,
   "metadata": {},
   "outputs": [
    {
     "data": {
      "image/png": "[encoded data removed]",
      "text/plain": [
       "<Figure size 600x600 with 1 Axes>"
      ]
     },
     "metadata": {},
     "output_type": "display_data"
    }
   ],
   "source": [
    "plt.figure(figsize=(6,6))\n",
    "plt.style.use(\"ggplot\")\n",
    "plt.plot(results, color='b', label=\"Accuracy (%)\")\n",
    "plt.legend()\n",
    "plt.show()\n"
   ]
  },
  {
   "cell_type": "markdown",
   "metadata": {},
   "source": [
    "## Resizing"
   ]
  },
  {
   "cell_type": "code",
   "execution_count": 149,
   "metadata": {},
   "outputs": [],
   "source": [
    "defaultDimensions = (227,227)\n",
    "resizeDimensions = [(24,24),(36,36),(48,48),(60,60),(72,72),(84,84)]\n",
    "resizeTotalCorrect = 0\n",
    "resizeResults = []"
   ]
  },
  {
   "cell_type": "code",
   "execution_count": 134,
   "metadata": {},
   "outputs": [],
   "source": [
    "def resizeTest(img,size):\n",
    "    img = img.resize(size)\n",
    "    prediction = getResult(predictAnimal(imgC)[0])\n",
    "    answer = getAnimal(path)\n",
    "    # Evaluate prediction\n",
    "    if prediction == answer:\n",
    "        resizeTotalCorrect += 1"
   ]
  },
  {
   "cell_type": "code",
   "execution_count": null,
   "metadata": {},
   "outputs": [],
   "source": [
    "for size in resizeDimensions:\n",
    "    for path in paths:\n",
    "        img = Image.open(path)\n",
    "        resizeTest(img,size)"
   ]
  },
  {
   "cell_type": "markdown",
   "metadata": {},
   "source": [
    "## Graining (Epsilon)"
   ]
  },
  {
   "cell_type": "markdown",
   "metadata": {},
   "source": []
  }
 ],
 "metadata": {
  "kernelspec": {
   "display_name": "Python 3.10.8 64-bit",
   "language": "python",
   "name": "python3"
  },
  "language_info": {
   "codemirror_mode": {
    "name": "ipython",
    "version": 3
   },
   "file_extension": ".py",
   "mimetype": "text/x-python",
   "name": "python",
   "nbconvert_exporter": "python",
   "pygments_lexer": "ipython3",
   "version": "3.10.8"
  },
  "orig_nbformat": 4,
  "vscode": {
   "interpreter": {
    "hash": "8b729ff7d4072bc5933c4a7cb0f0b980fdd4749274374f4d00062b782e552eb6"
   }
  }
 },
 "nbformat": 4,
 "nbformat_minor": 2
}
