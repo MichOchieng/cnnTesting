{
 "cells": [
  {
   "cell_type": "code",
   "execution_count": 56,
   "metadata": {},
   "outputs": [],
   "source": [
    "import os\n",
    "import glob\n",
    "import cv2\n",
    "import shutil\n",
    "import numpy as np\n",
    "import pandas as pd\n",
    "import tensorflow as tf\n",
    "import matplotlib.pyplot as plt\n",
    "import matplotlib.image as mpimg\n",
    "from PIL import Image\n",
    "from skimage.io import imread\n",
    "from tensorflow import keras\n",
    "from sklearn.model_selection import train_test_split"
   ]
  },
  {
   "cell_type": "markdown",
   "metadata": {},
   "source": [
    "# Creating Dataframe"
   ]
  },
  {
   "cell_type": "markdown",
   "metadata": {},
   "source": [
    "## Variables"
   ]
  },
  {
   "cell_type": "code",
   "execution_count": 42,
   "metadata": {},
   "outputs": [],
   "source": [
    "# Directories\n",
    "# dataDir = './data'\n",
    "dataDir = '.\\data'\n",
    "# Dataframe\n",
    "df = pd.DataFrame(data={\n",
    "    \"bird\":[],\"cat\":[],\"dog\":[],\"path\":[]\n",
    "    })\n",
    "df['bird'] = df['bird'].astype(np.int8)\n",
    "df['cat']  = df['cat'].astype(np.int8)\n",
    "df['dog']  = df['dog'].astype(np.int8)\n",
    "df['path'] = df['path'].astype(np.str0)\n",
    "\n",
    "animals = ['cat','dog','bird']"
   ]
  },
  {
   "cell_type": "markdown",
   "metadata": {},
   "source": [
    "## Filling Dataframe"
   ]
  },
  {
   "cell_type": "code",
   "execution_count": 43,
   "metadata": {},
   "outputs": [],
   "source": [
    "for animal in animals:\n",
    "    for dirname,_,filenames in os.walk(os.path.join(dataDir,animal)):\n",
    "        for file in filenames:\n",
    "            try:\n",
    "                path = os.path.join(dataDir,animal,animal,file)\n",
    "                df = pd.concat(\n",
    "                    [ df,\n",
    "                        pd.DataFrame({\n",
    "                            'dog':  1 if animal == 'dog' else 0,\n",
    "                            'cat':  1 if animal == 'cat' else 0,\n",
    "                            'bird': 1 if animal == 'bird' else 0,\n",
    "                            'path': [path]\n",
    "                        })\n",
    "                    ],\n",
    "                    ignore_index=True\n",
    "                )\n",
    "            except:\n",
    "                print(\"Issue at filename: \", file)"
   ]
  },
  {
   "cell_type": "markdown",
   "metadata": {},
   "source": [
    "# Model Creation"
   ]
  },
  {
   "cell_type": "markdown",
   "metadata": {},
   "source": [
    "### Train/Test Split"
   ]
  },
  {
   "cell_type": "code",
   "execution_count": 50,
   "metadata": {},
   "outputs": [],
   "source": [
    "dataTrain, dataTest = train_test_split(\n",
    "    df,\n",
    "    train_size=0.05\n",
    ")"
   ]
  },
  {
   "cell_type": "markdown",
   "metadata": {},
   "source": [
    "### Variables"
   ]
  },
  {
   "cell_type": "code",
   "execution_count": 48,
   "metadata": {},
   "outputs": [],
   "source": [
    "dirTrain = \"trainData\"\n",
    "dirTest  = \"testData\"\n",
    "dirValidation = \"validationData\"\n",
    "root = \"./output\""
   ]
  },
  {
   "cell_type": "markdown",
   "metadata": {},
   "source": [
    "### Creating directories"
   ]
  },
  {
   "cell_type": "code",
   "execution_count": 59,
   "metadata": {},
   "outputs": [],
   "source": [
    "def createDirectories(dir):\n",
    "    os.makedirs(os.path.join(root,'dataset',dir))\n",
    "    for animal in animals:   \n",
    "        os.makedirs(os.path.join(root,'dataset',dir,animal))"
   ]
  },
  {
   "cell_type": "code",
   "execution_count": 60,
   "metadata": {},
   "outputs": [],
   "source": [
    "# Create directories if they haven't already been created\n",
    "if os.path.isdir(os.path.join(root,'dataset')) == False:\n",
    "    os.makedirs(os.path.join(root,'dataset'))\n",
    "\n",
    "# Training directories\n",
    "if os.path.isdir(os.path.join(root,'dataset',dirTrain)) == False:\n",
    "    createDirectories(dirTrain)\n",
    "    \n",
    "# Testing directories\n",
    "if os.path.isdir(os.path.join(root,'dataset',dirTest)) == False:\n",
    "    createDirectories(dirTest)"
   ]
  },
  {
   "cell_type": "markdown",
   "metadata": {},
   "source": [
    "### Adding images to train/test folder"
   ]
  },
  {
   "cell_type": "code",
   "execution_count": 53,
   "metadata": {},
   "outputs": [],
   "source": [
    "def folderPrep(row,dir):\n",
    "    head, tail = os.path.split(row.path)\n",
    "    if row.bird  == 1:\n",
    "        newPath  = os.path.join(root,'dataset',dir,'bird',tail)\n",
    "    elif row['cat'] == 1:\n",
    "        newPath    = os.path.join(root,'dataset',dir,'cat',tail)\n",
    "    elif row.dog == 1:\n",
    "        newPath  = os.path.join(root,'dataset',dir,'dog',tail)\n",
    "    shutil.copyfile(row.path,newPath)    \n",
    "    return newPath"
   ]
  },
  {
   "cell_type": "code",
   "execution_count": 58,
   "metadata": {},
   "outputs": [],
   "source": [
    "dataTrain['path'] = dataTrain.apply(folderPrep,axis=1,dir=dirTrain)"
   ]
  },
  {
   "cell_type": "code",
   "execution_count": 57,
   "metadata": {},
   "outputs": [],
   "source": [
    "dataTest['path'] = dataTest.apply(folderPrep,axis=1,dir=dirTest)"
   ]
  },
  {
   "cell_type": "markdown",
   "metadata": {},
   "source": [
    "### Training prep"
   ]
  },
  {
   "cell_type": "code",
   "execution_count": 62,
   "metadata": {},
   "outputs": [],
   "source": [
    "BATCH_SIZE = 256\n",
    "IMG_RES    = (227,227)"
   ]
  },
  {
   "cell_type": "code",
   "execution_count": 61,
   "metadata": {},
   "outputs": [],
   "source": [
    "physical_devices = tf.config.list_physical_devices('GPU') \n",
    "tf.config.experimental.set_memory_growth(physical_devices[0], True)"
   ]
  },
  {
   "cell_type": "code",
   "execution_count": 63,
   "metadata": {},
   "outputs": [
    {
     "name": "stdout",
     "output_type": "stream",
     "text": [
      "Found 667 images belonging to 3 classes.\n",
      "Found 12677 images belonging to 3 classes.\n"
     ]
    }
   ],
   "source": [
    "from keras.preprocessing.image import ImageDataGenerator\n",
    "\n",
    "image_gen =  ImageDataGenerator(\n",
    "        rescale= 1.0/255.0\n",
    "        )\n",
    "train = image_gen.flow_from_directory(\n",
    "        os.path.join(root,'dataset',dirTrain), \n",
    "        class_mode='categorical',\n",
    "        batch_size=BATCH_SIZE,\n",
    "        target_size=IMG_RES\n",
    "        )\n",
    "validation = image_gen.flow_from_directory(\n",
    "        os.path.join(root,'dataset',dirTest),\n",
    "        class_mode='categorical',\n",
    "        batch_size=BATCH_SIZE,\n",
    "        target_size=IMG_RES\n",
    "        )"
   ]
  },
  {
   "cell_type": "code",
   "execution_count": 65,
   "metadata": {},
   "outputs": [],
   "source": [
    "from keras.optimizers import Adam\n",
    "from keras.models import Sequential\n",
    "from keras.layers import Dense,Conv2D,MaxPool2D,Flatten,Dropout,BatchNormalization"
   ]
  },
  {
   "cell_type": "code",
   "execution_count": 77,
   "metadata": {},
   "outputs": [],
   "source": [
    "model = Sequential()\n",
    "model.add(\n",
    "    Conv2D(\n",
    "        filters=128,\n",
    "        kernel_size=11,\n",
    "        activation ='relu',\n",
    "        strides=4,\n",
    "        input_shape =(IMG_RES[0],IMG_RES[1],3)\n",
    "    )\n",
    ")\n",
    "model.add(MaxPool2D(3,2))\n",
    "model.add(Flatten())\n",
    "model.add(Dense(128,activation = 'relu'))\n",
    "model.add(Dense(3,activation = 'softmax'))  "
   ]
  },
  {
   "cell_type": "code",
   "execution_count": null,
   "metadata": {},
   "outputs": [],
   "source": [
    "model.compile(\n",
    "    optimizer=Adam(),\n",
    "    loss='categorical_crossentropy',\n",
    "    metrics=['accuracy']\n",
    ")\n",
    "history = model.fit(train,epochs=50,validation_data=validation)"
   ]
  },
  {
   "cell_type": "code",
   "execution_count": 80,
   "metadata": {},
   "outputs": [],
   "source": [
    "model.save('classification1L.h5')"
   ]
  },
  {
   "cell_type": "markdown",
   "metadata": {},
   "source": [
    "# Testing"
   ]
  },
  {
   "cell_type": "markdown",
   "metadata": {},
   "source": [
    "## AlexNet Model"
   ]
  },
  {
   "cell_type": "code",
   "execution_count": 81,
   "metadata": {},
   "outputs": [],
   "source": [
    "from numpy.linalg import svd\n",
    "alexModel = keras.models.load_model('image_classification.h5')"
   ]
  },
  {
   "cell_type": "code",
   "execution_count": 84,
   "metadata": {},
   "outputs": [],
   "source": [
    "options = {\n",
    "    0: 'bird',\n",
    "    1: 'cat',\n",
    "    2: 'dog'\n",
    "}"
   ]
  },
  {
   "cell_type": "markdown",
   "metadata": {},
   "source": [
    "### Testing Dataframe"
   ]
  },
  {
   "cell_type": "code",
   "execution_count": 89,
   "metadata": {},
   "outputs": [],
   "source": [
    "testingDf = df.sample(n=100)\n",
    "paths = testingDf['path'].values"
   ]
  },
  {
   "cell_type": "markdown",
   "metadata": {},
   "source": [
    "## SVD Compression"
   ]
  },
  {
   "cell_type": "code",
   "execution_count": 121,
   "metadata": {},
   "outputs": [],
   "source": [
    "svdTotalCorrect = 0\n",
    "# svdConfidence = []\n",
    "results = []"
   ]
  },
  {
   "cell_type": "code",
   "execution_count": 83,
   "metadata": {},
   "outputs": [],
   "source": [
    "def truncateSVD(A, k):\n",
    "    U, S, Vt = svd(A)\n",
    "    Ak = np.dot(U[:,:k],np.dot(np.diag(S[:k]),Vt[:k,:]))\n",
    "    return Ak\n",
    "\n",
    "def compressImg(img,k):\n",
    "#   Send img to matrix\n",
    "    imgMatrix = np.array(list(img.getdata(band=0)))\n",
    "    imgMatrix.shape = (img.size[1],img.size[0])\n",
    "    imgMatrix = np.matrix(imgMatrix) \n",
    "#   Compress with SVD\n",
    "    compressedMatrix = truncateSVD(imgMatrix,k)\n",
    "#   Convert back to img\n",
    "    compressedImg = Image.fromarray(compressedMatrix)\n",
    "    return compressedImg"
   ]
  },
  {
   "cell_type": "code",
   "execution_count": 235,
   "metadata": {},
   "outputs": [],
   "source": [
    "def predictAnimal(img,predModel):\n",
    "    img = np.array(img).astype(np.float64)\n",
    "    img = img.reshape(-1,227,227,3)\n",
    "    img /= 255.\n",
    "    prediction = predModel.predict(img)\n",
    "    return prediction"
   ]
  },
  {
   "cell_type": "code",
   "execution_count": 87,
   "metadata": {},
   "outputs": [],
   "source": [
    "def getResult(arr):\n",
    "    x = np.argmax(arr)\n",
    "    string = options[x]\n",
    "    return string"
   ]
  },
  {
   "cell_type": "code",
   "execution_count": 88,
   "metadata": {},
   "outputs": [],
   "source": [
    "def getAnimal(str):\n",
    "    if 'cat' in str:\n",
    "        return 'cat'\n",
    "    elif 'dog' in str:\n",
    "        return 'dog'\n",
    "    elif 'bird' in str:\n",
    "        return 'bird'"
   ]
  },
  {
   "cell_type": "code",
   "execution_count": null,
   "metadata": {},
   "outputs": [],
   "source": [
    "for k in range(10,100,5):\n",
    "    svdTotalCorrect = 0\n",
    "    for path in paths:\n",
    "        # Compress Image\n",
    "        img  = Image.open(path).resize((227,227))\n",
    "        imgC = compressImg(img,k).convert('RGB')\n",
    "        # Make prediction\n",
    "        prediction = getResult(predictAnimal(imgC,alexModel)[0])\n",
    "        answer = getAnimal(path)\n",
    "        # Evaluate prediction\n",
    "        if prediction == answer:\n",
    "            svdTotalCorrect += 1\n",
    "    # Add result to result list\n",
    "    results.append(svdTotalCorrect)"
   ]
  },
  {
   "cell_type": "code",
   "execution_count": 246,
   "metadata": {},
   "outputs": [
    {
     "name": "stdout",
     "output_type": "stream",
     "text": [
      "[62, 72, 77, 78, 79, 81, 80, 80, 80, 80, 81, 80, 82, 81, 81, 81, 81, 81]\n"
     ]
    }
   ],
   "source": [
    "print(results)"
   ]
  },
  {
   "cell_type": "code",
   "execution_count": 247,
   "metadata": {},
   "outputs": [
    {
     "data": {
      "image/png": "[encoded data removed]",
      "text/plain": [
       "<Figure size 800x500 with 1 Axes>"
      ]
     },
     "metadata": {},
     "output_type": "display_data"
    }
   ],
   "source": [
    "x = [10,15,20,25,30,35,40,45,50,55,60,65,70,75,80,85,90,95]\n",
    "\n",
    "plt.figure(figsize=(8,5))\n",
    "plt.plot(x,results,color='r')\n",
    "plt.title('Accuracy vs K')\n",
    "plt.ylabel('Accuracy (%)')\n",
    "plt.xlabel('K')\n",
    "plt.show()\n"
   ]
  },
  {
   "cell_type": "markdown",
   "metadata": {},
   "source": [
    "## Resizing"
   ]
  },
  {
   "cell_type": "code",
   "execution_count": 250,
   "metadata": {},
   "outputs": [],
   "source": [
    "defaultDimensions = (227,227)\n",
    "resizeDimensions = [(24,24),(36,36),(48,48),(60,60),(72,72),(84,84)]\n",
    "resizeTotalCorrect = 0\n",
    "resizeResults = []"
   ]
  },
  {
   "cell_type": "code",
   "execution_count": 249,
   "metadata": {},
   "outputs": [],
   "source": [
    "def resizeTest(img,size,path):\n",
    "    # Resize image to new size\n",
    "    img = img.resize(size)\n",
    "    # Revert to previous size\n",
    "    img = img.resize(defaultDimensions)\n",
    "    # Make prediction\n",
    "    prediction = getResult(predictAnimal(img,alexModel)[0])\n",
    "    answer = getAnimal(path)\n",
    "    # Evaluate prediction\n",
    "    if prediction == answer:\n",
    "        return 1\n",
    "    else:\n",
    "        return 0"
   ]
  },
  {
   "cell_type": "code",
   "execution_count": null,
   "metadata": {},
   "outputs": [],
   "source": [
    "for size in resizeDimensions:\n",
    "    resizeTotalCorrect = 0\n",
    "    for path in paths:\n",
    "        img = Image.open(path)\n",
    "        resizeTotalCorrect += resizeTest(img,size,path)\n",
    "    resizeResults.append(resizeTotalCorrect)"
   ]
  },
  {
   "cell_type": "code",
   "execution_count": 252,
   "metadata": {},
   "outputs": [
    {
     "name": "stdout",
     "output_type": "stream",
     "text": [
      "[62, 69, 76, 81, 88, 92]\n"
     ]
    }
   ],
   "source": [
    "print(resizeResults)"
   ]
  },
  {
   "cell_type": "code",
   "execution_count": 253,
   "metadata": {},
   "outputs": [
    {
     "data": {
      "image/png": "[encoded data removed]",
      "text/plain": [
       "<Figure size 800x500 with 1 Axes>"
      ]
     },
     "metadata": {},
     "output_type": "display_data"
    }
   ],
   "source": [
    "xr = ['24 x 24','36 x 36','48 x 48','60 x 60','72 x 72','84 x 84']\n",
    "\n",
    "plt.figure(figsize=(8,5))\n",
    "plt.plot(xr,resizeResults,color='r')\n",
    "plt.title('Accuracy vs Resize Dimension')\n",
    "plt.ylabel('Accuracy (%)')\n",
    "plt.xlabel('Dimension')\n",
    "plt.show()"
   ]
  },
  {
   "cell_type": "markdown",
   "metadata": {},
   "source": [
    "## Epsilon"
   ]
  },
  {
   "cell_type": "code",
   "execution_count": 231,
   "metadata": {},
   "outputs": [],
   "source": [
    "epsilonTotalCorrect = 0\n",
    "epsilonValues = [100,1000,10000,20000]\n",
    "epsilonResults = []"
   ]
  },
  {
   "cell_type": "code",
   "execution_count": 233,
   "metadata": {},
   "outputs": [],
   "source": [
    "import random\n",
    "\n",
    "def distortImage(img,epsilon):\n",
    "    x = img.shape[0]   \n",
    "    for i in range(epsilon):\n",
    "        p = random.randint(0,x-1)\n",
    "        q = random.randint(0,x-1 )\n",
    "        img[p][q][0] = 0\n",
    "        img[p][q][1] = 0\n",
    "        img[p][q][2] = 0\n",
    "    return img"
   ]
  },
  {
   "cell_type": "code",
   "execution_count": null,
   "metadata": {},
   "outputs": [],
   "source": [
    "for epsilon in epsilonValues:\n",
    "    epsilonTotalCorrect = 0\n",
    "    for path in paths:\n",
    "        # Apply distorition to image\n",
    "        img = Image.open(path).resize((227,227))\n",
    "        img2 = distortImage(np.copy(img),epsilon)\n",
    "        # Revert back to original shape\n",
    "        img2 = img2.reshape(227,227,3)\n",
    "        # Make predictions\n",
    "        prediction = getResult(predictAnimal(img2,alexModel)[0])\n",
    "        answer = getAnimal(path)\n",
    "        # Evaluate predicitons\n",
    "        if prediction == answer:\n",
    "            epsilonTotalCorrect += 1\n",
    "    epsilonResults.append(epsilonTotalCorrect)\n"
   ]
  },
  {
   "cell_type": "code",
   "execution_count": 237,
   "metadata": {},
   "outputs": [
    {
     "name": "stdout",
     "output_type": "stream",
     "text": [
      "[94, 94, 74, 59]\n"
     ]
    }
   ],
   "source": [
    "print(epsilonResults)"
   ]
  },
  {
   "cell_type": "code",
   "execution_count": 238,
   "metadata": {},
   "outputs": [
    {
     "data": {
      "image/png": "[encoded data removed]",
      "text/plain": [
       "<Figure size 800x500 with 1 Axes>"
      ]
     },
     "metadata": {},
     "output_type": "display_data"
    }
   ],
   "source": [
    "x = [10,15,20,25,30,35,40,45,50,55,60,65,70,75,80,85,90,95]\n",
    "\n",
    "plt.figure(figsize=(8,5))\n",
    "plt.plot(epsilonValues,epsilonResults,color='r')\n",
    "plt.title('Accuracy vs Epsilon')\n",
    "plt.ylabel('Accuracy (%)')\n",
    "plt.xlabel('Epsilon')\n",
    "plt.show()"
   ]
  }
 ],
 "metadata": {
  "kernelspec": {
   "display_name": "Python 3.10.8 64-bit",
   "language": "python",
   "name": "python3"
  },
  "language_info": {
   "codemirror_mode": {
    "name": "ipython",
    "version": 3
   },
   "file_extension": ".py",
   "mimetype": "text/x-python",
   "name": "python",
   "nbconvert_exporter": "python",
   "pygments_lexer": "ipython3",
   "version": "3.10.8"
  },
  "orig_nbformat": 4,
  "vscode": {
   "interpreter": {
    "hash": "8b729ff7d4072bc5933c4a7cb0f0b980fdd4749274374f4d00062b782e552eb6"
   }
  }
 },
 "nbformat": 4,
 "nbformat_minor": 2
}
